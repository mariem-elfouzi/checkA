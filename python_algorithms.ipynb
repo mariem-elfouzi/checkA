{
  "nbformat": 4,
  "nbformat_minor": 0,
  "metadata": {
    "colab": {
      "name": "python_algorithms.ipynb",
      "provenance": [],
      "collapsed_sections": [],
      "authorship_tag": "ABX9TyNvo7oqLlkL4GECxG9SSTav",
      "include_colab_link": true
    },
    "kernelspec": {
      "name": "python3",
      "display_name": "Python 3"
    },
    "language_info": {
      "name": "python"
    }
  },
  "cells": [
    {
      "cell_type": "markdown",
      "metadata": {
        "id": "view-in-github",
        "colab_type": "text"
      },
      "source": [
        "<a href=\"https://colab.research.google.com/github/mariem-elfouzi/checkA/blob/main/python_algorithms.ipynb\" target=\"_parent\"><img src=\"https://colab.research.google.com/assets/colab-badge.svg\" alt=\"Open In Colab\"/></a>"
      ]
    },
    {
      "cell_type": "code",
      "metadata": {
        "colab": {
          "base_uri": "https://localhost:8080/",
          "height": 35
        },
        "id": "Q7oF0xR49EI5",
        "outputId": "e12efe17-ebfa-473b-94fa-8412c7198b98"
      },
      "source": [
        "#question 1\n",
        "def binary_search(sequence,item):\n",
        "  left=0\n",
        "  right=len(sequence)-1\n",
        "  if left<=right :\n",
        "    mid=int(left+(right-left)/2)\n",
        "    mid_value=sequence[mid]\n",
        "    if item ==mid_value :\n",
        "      return 'True'\n",
        "    elif item < mid_value:\n",
        "      return binary_search(sequence[:mid-1],item)\n",
        "    else :\n",
        "      return binary_search(sequence[mid+1 :],item)\n",
        "  else :\n",
        "    return 'false'\n",
        "binary_search([1,2,3,5,8],6)"
      ],
      "execution_count": null,
      "outputs": [
        {
          "output_type": "execute_result",
          "data": {
            "application/vnd.google.colaboratory.intrinsic+json": {
              "type": "string"
            },
            "text/plain": [
              "'false'"
            ]
          },
          "metadata": {
            "tags": []
          },
          "execution_count": 4
        }
      ]
    },
    {
      "cell_type": "code",
      "metadata": {
        "colab": {
          "base_uri": "https://localhost:8080/"
        },
        "id": "F5So42lVUc5Z",
        "outputId": "3e89682d-7e4c-4b0f-8348-1ff22042840b"
      },
      "source": [
        "#question 2\n",
        "def power(x,y) :\n",
        "  return x**y\n",
        "power(3,4)"
      ],
      "execution_count": null,
      "outputs": [
        {
          "output_type": "execute_result",
          "data": {
            "text/plain": [
              "81"
            ]
          },
          "metadata": {
            "tags": []
          },
          "execution_count": 5
        }
      ]
    },
    {
      "cell_type": "code",
      "metadata": {
        "colab": {
          "base_uri": "https://localhost:8080/"
        },
        "id": "Md1oXcu4azQV",
        "outputId": "c782fc9a-a118-4982-8a6e-e248c3dd4882"
      },
      "source": [
        "#question 3\n",
        "def bubble_sort(sequence) :\n",
        "  for passnum in range (len(sequence)-1,0,-1) :\n",
        "    for i in range (passnum) :\n",
        "      if sequence[i]>sequence[i+1] :\n",
        "        temp=sequence[i]\n",
        "        sequence[i]=sequence[i+1]\n",
        "        sequence[i+1]=temp\n",
        "  return(sequence)\n",
        "bubble_sort([29,13,22,37,52,49,46,71,56])\n"
      ],
      "execution_count": null,
      "outputs": [
        {
          "output_type": "execute_result",
          "data": {
            "text/plain": [
              "[13, 22, 29, 37, 46, 49, 52, 56, 71]"
            ]
          },
          "metadata": {
            "tags": []
          },
          "execution_count": 22
        }
      ]
    },
    {
      "cell_type": "code",
      "metadata": {
        "colab": {
          "base_uri": "https://localhost:8080/"
        },
        "id": "Ta9g-U3ggSKM",
        "outputId": "868bbffe-85c0-4e6b-87da-52b77a7db93b"
      },
      "source": [
        "#question 4\n",
        "def merge_sort(my_list) :\n",
        "  if len(my_list)>1 :\n",
        "    mid=len(my_list)//2\n",
        "    left=my_list[:mid]\n",
        "    right=my_list[mid:]\n",
        "    merge_sort(left)\n",
        "    merge_sort(right)\n",
        "    i=0\n",
        "    j=0\n",
        "    k=0\n",
        "    while i<len(left) and j<len(right) :\n",
        "      if left[i]<right[j] :\n",
        "        my_list[k]=left[i]\n",
        "        i=i+1\n",
        "      else :\n",
        "        my_list[k]=right[j]\n",
        "        j=j+1\n",
        "      k=k+1\n",
        "    while i<len(left) :\n",
        "      my_list[k]=left[i]\n",
        "      i=i+1\n",
        "      k=k+1\n",
        "    while j<len(right) :\n",
        "      my_list[k]=right[j]\n",
        "      j=j+1\n",
        "      k=k+1\n",
        "    return my_list\n",
        "merge_sort([29,13,22,37,52,49,46,71,56])"
      ],
      "execution_count": 1,
      "outputs": [
        {
          "output_type": "execute_result",
          "data": {
            "text/plain": [
              "[13, 22, 29, 37, 46, 49, 52, 56, 71]"
            ]
          },
          "metadata": {
            "tags": []
          },
          "execution_count": 1
        }
      ]
    },
    {
      "cell_type": "code",
      "metadata": {
        "colab": {
          "base_uri": "https://localhost:8080/"
        },
        "id": "pGiHr5b2n8r4",
        "outputId": "f7dd6589-32f1-4d12-f0b6-0c1312c453b5"
      },
      "source": [
        "#question 5\n",
        "def partition(array, start, end):\n",
        "    pivot = array[start]\n",
        "    low = start + 1\n",
        "    high = end\n",
        "    while True:\n",
        "        while low <= high and array[high] >= pivot:\n",
        "            high = high - 1\n",
        "        while low <= high and array[low] <= pivot:\n",
        "            low = low + 1\n",
        "        if low <= high:\n",
        "            array[low], array[high] = array[high], array[low]\n",
        "        else:\n",
        "            break\n",
        "\n",
        "    array[start], array[high] = array[high], array[start]\n",
        "\n",
        "    return high\n",
        "def quick_sort(array, start, end):\n",
        "    if start >= end:\n",
        "        return\n",
        "\n",
        "    p = partition(array, start, end)\n",
        "    quick_sort(array, start, p-1)\n",
        "    quick_sort(array, p+1, end)\n",
        "array = [29,13,22,37,52,49,46,71,56]\n",
        "quick_sort(array, 0, len(array) - 1)\n",
        "print(array)"
      ],
      "execution_count": null,
      "outputs": [
        {
          "output_type": "stream",
          "text": [
            "[13, 22, 29, 37, 46, 49, 52, 56, 71]\n"
          ],
          "name": "stdout"
        }
      ]
    }
  ]
}